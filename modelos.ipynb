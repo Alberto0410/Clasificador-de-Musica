{
  "cells": [
    {
      "cell_type": "code",
      "execution_count": null,
      "metadata": {
        "id": "vJfUK5xp1DS0"
      },
      "outputs": [],
      "source": [
        "#!pip install scikit-optimize\n",
        "import pandas as pd\n",
        "import seaborn as sns\n",
        "import numpy as np\n",
        "import matplotlib.pyplot as plt\n",
        "from sklearn.model_selection import train_test_split\n",
        "from sklearn.metrics import accuracy_score, precision_score, recall_score, f1_score, classification_report\n",
        "from sklearn.tree import DecisionTreeClassifier\n",
        "from sklearn.linear_model import LogisticRegression, SGDClassifier\n",
        "from sklearn.neighbors import KNeighborsClassifier as KNN\n",
        "from sklearn.ensemble import RandomForestClassifier, AdaBoostClassifier, GradientBoostingClassifier\n",
        "import xgboost as xgb\n",
        "from sklearn import preprocessing\n",
        "from skopt import BayesSearchCV\n",
        "from sklearn.metrics import roc_auc_score"
      ]
    },
    {
      "cell_type": "markdown",
      "metadata": {
        "id": "O0y5W_gr1DS3"
      },
      "source": [
        "## Carga de datos y visualización"
      ]
    },
    {
      "cell_type": "code",
      "execution_count": null,
      "metadata": {
        "colab": {
          "base_uri": "https://localhost:8080/",
          "height": 299
        },
        "id": "FqWaBMFU1DS4",
        "outputId": "841e640e-a094-402d-e112-ad13bfefae3e"
      },
      "outputs": [
        {
          "output_type": "execute_result",
          "data": {
            "text/plain": [
              "          filename  length  chroma_stft_mean  chroma_stft_var  rms_mean  \\\n",
              "0  blues.00000.wav  661794          0.350088         0.088757  0.130228   \n",
              "1  blues.00001.wav  661794          0.340914         0.094980  0.095948   \n",
              "2  blues.00002.wav  661794          0.363637         0.085275  0.175570   \n",
              "3  blues.00003.wav  661794          0.404785         0.093999  0.141093   \n",
              "4  blues.00004.wav  661794          0.308526         0.087841  0.091529   \n",
              "\n",
              "    rms_var  spectral_centroid_mean  spectral_centroid_var  \\\n",
              "0  0.002827             1784.165850          129774.064525   \n",
              "1  0.002373             1530.176679          375850.073649   \n",
              "2  0.002746             1552.811865          156467.643368   \n",
              "3  0.006346             1070.106615          184355.942417   \n",
              "4  0.002303             1835.004266          343399.939274   \n",
              "\n",
              "   spectral_bandwidth_mean  spectral_bandwidth_var  ...  mfcc16_var  \\\n",
              "0              2002.449060            85882.761315  ...   52.420910   \n",
              "1              2039.036516           213843.755497  ...   55.356403   \n",
              "2              1747.702312            76254.192257  ...   40.598766   \n",
              "3              1596.412872           166441.494769  ...   44.427753   \n",
              "4              1748.172116            88445.209036  ...   86.099236   \n",
              "\n",
              "   mfcc17_mean  mfcc17_var  mfcc18_mean  mfcc18_var  mfcc19_mean  mfcc19_var  \\\n",
              "0    -1.690215   36.524071    -0.408979   41.597103    -2.303523   55.062923   \n",
              "1    -0.731125   60.314529     0.295073   48.120598    -0.283518   51.106190   \n",
              "2    -7.729093   47.639427    -1.816407   52.382141    -3.439720   46.639660   \n",
              "3    -3.319597   50.206673     0.636965   37.319130    -0.619121   37.259739   \n",
              "4    -5.454034   75.269707    -0.916874   53.613918    -4.404827   62.910812   \n",
              "\n",
              "   mfcc20_mean  mfcc20_var  label  \n",
              "0     1.221291   46.936035  blues  \n",
              "1     0.531217   45.786282  blues  \n",
              "2    -2.231258   30.573025  blues  \n",
              "3    -3.407448   31.949339  blues  \n",
              "4   -11.703234   55.195160  blues  \n",
              "\n",
              "[5 rows x 60 columns]"
            ],
            "text/html": [
              "\n",
              "  <div id=\"df-3a067855-2e00-4c25-80e0-8ff309e1c763\">\n",
              "    <div class=\"colab-df-container\">\n",
              "      <div>\n",
              "<style scoped>\n",
              "    .dataframe tbody tr th:only-of-type {\n",
              "        vertical-align: middle;\n",
              "    }\n",
              "\n",
              "    .dataframe tbody tr th {\n",
              "        vertical-align: top;\n",
              "    }\n",
              "\n",
              "    .dataframe thead th {\n",
              "        text-align: right;\n",
              "    }\n",
              "</style>\n",
              "<table border=\"1\" class=\"dataframe\">\n",
              "  <thead>\n",
              "    <tr style=\"text-align: right;\">\n",
              "      <th></th>\n",
              "      <th>filename</th>\n",
              "      <th>length</th>\n",
              "      <th>chroma_stft_mean</th>\n",
              "      <th>chroma_stft_var</th>\n",
              "      <th>rms_mean</th>\n",
              "      <th>rms_var</th>\n",
              "      <th>spectral_centroid_mean</th>\n",
              "      <th>spectral_centroid_var</th>\n",
              "      <th>spectral_bandwidth_mean</th>\n",
              "      <th>spectral_bandwidth_var</th>\n",
              "      <th>...</th>\n",
              "      <th>mfcc16_var</th>\n",
              "      <th>mfcc17_mean</th>\n",
              "      <th>mfcc17_var</th>\n",
              "      <th>mfcc18_mean</th>\n",
              "      <th>mfcc18_var</th>\n",
              "      <th>mfcc19_mean</th>\n",
              "      <th>mfcc19_var</th>\n",
              "      <th>mfcc20_mean</th>\n",
              "      <th>mfcc20_var</th>\n",
              "      <th>label</th>\n",
              "    </tr>\n",
              "  </thead>\n",
              "  <tbody>\n",
              "    <tr>\n",
              "      <th>0</th>\n",
              "      <td>blues.00000.wav</td>\n",
              "      <td>661794</td>\n",
              "      <td>0.350088</td>\n",
              "      <td>0.088757</td>\n",
              "      <td>0.130228</td>\n",
              "      <td>0.002827</td>\n",
              "      <td>1784.165850</td>\n",
              "      <td>129774.064525</td>\n",
              "      <td>2002.449060</td>\n",
              "      <td>85882.761315</td>\n",
              "      <td>...</td>\n",
              "      <td>52.420910</td>\n",
              "      <td>-1.690215</td>\n",
              "      <td>36.524071</td>\n",
              "      <td>-0.408979</td>\n",
              "      <td>41.597103</td>\n",
              "      <td>-2.303523</td>\n",
              "      <td>55.062923</td>\n",
              "      <td>1.221291</td>\n",
              "      <td>46.936035</td>\n",
              "      <td>blues</td>\n",
              "    </tr>\n",
              "    <tr>\n",
              "      <th>1</th>\n",
              "      <td>blues.00001.wav</td>\n",
              "      <td>661794</td>\n",
              "      <td>0.340914</td>\n",
              "      <td>0.094980</td>\n",
              "      <td>0.095948</td>\n",
              "      <td>0.002373</td>\n",
              "      <td>1530.176679</td>\n",
              "      <td>375850.073649</td>\n",
              "      <td>2039.036516</td>\n",
              "      <td>213843.755497</td>\n",
              "      <td>...</td>\n",
              "      <td>55.356403</td>\n",
              "      <td>-0.731125</td>\n",
              "      <td>60.314529</td>\n",
              "      <td>0.295073</td>\n",
              "      <td>48.120598</td>\n",
              "      <td>-0.283518</td>\n",
              "      <td>51.106190</td>\n",
              "      <td>0.531217</td>\n",
              "      <td>45.786282</td>\n",
              "      <td>blues</td>\n",
              "    </tr>\n",
              "    <tr>\n",
              "      <th>2</th>\n",
              "      <td>blues.00002.wav</td>\n",
              "      <td>661794</td>\n",
              "      <td>0.363637</td>\n",
              "      <td>0.085275</td>\n",
              "      <td>0.175570</td>\n",
              "      <td>0.002746</td>\n",
              "      <td>1552.811865</td>\n",
              "      <td>156467.643368</td>\n",
              "      <td>1747.702312</td>\n",
              "      <td>76254.192257</td>\n",
              "      <td>...</td>\n",
              "      <td>40.598766</td>\n",
              "      <td>-7.729093</td>\n",
              "      <td>47.639427</td>\n",
              "      <td>-1.816407</td>\n",
              "      <td>52.382141</td>\n",
              "      <td>-3.439720</td>\n",
              "      <td>46.639660</td>\n",
              "      <td>-2.231258</td>\n",
              "      <td>30.573025</td>\n",
              "      <td>blues</td>\n",
              "    </tr>\n",
              "    <tr>\n",
              "      <th>3</th>\n",
              "      <td>blues.00003.wav</td>\n",
              "      <td>661794</td>\n",
              "      <td>0.404785</td>\n",
              "      <td>0.093999</td>\n",
              "      <td>0.141093</td>\n",
              "      <td>0.006346</td>\n",
              "      <td>1070.106615</td>\n",
              "      <td>184355.942417</td>\n",
              "      <td>1596.412872</td>\n",
              "      <td>166441.494769</td>\n",
              "      <td>...</td>\n",
              "      <td>44.427753</td>\n",
              "      <td>-3.319597</td>\n",
              "      <td>50.206673</td>\n",
              "      <td>0.636965</td>\n",
              "      <td>37.319130</td>\n",
              "      <td>-0.619121</td>\n",
              "      <td>37.259739</td>\n",
              "      <td>-3.407448</td>\n",
              "      <td>31.949339</td>\n",
              "      <td>blues</td>\n",
              "    </tr>\n",
              "    <tr>\n",
              "      <th>4</th>\n",
              "      <td>blues.00004.wav</td>\n",
              "      <td>661794</td>\n",
              "      <td>0.308526</td>\n",
              "      <td>0.087841</td>\n",
              "      <td>0.091529</td>\n",
              "      <td>0.002303</td>\n",
              "      <td>1835.004266</td>\n",
              "      <td>343399.939274</td>\n",
              "      <td>1748.172116</td>\n",
              "      <td>88445.209036</td>\n",
              "      <td>...</td>\n",
              "      <td>86.099236</td>\n",
              "      <td>-5.454034</td>\n",
              "      <td>75.269707</td>\n",
              "      <td>-0.916874</td>\n",
              "      <td>53.613918</td>\n",
              "      <td>-4.404827</td>\n",
              "      <td>62.910812</td>\n",
              "      <td>-11.703234</td>\n",
              "      <td>55.195160</td>\n",
              "      <td>blues</td>\n",
              "    </tr>\n",
              "  </tbody>\n",
              "</table>\n",
              "<p>5 rows × 60 columns</p>\n",
              "</div>\n",
              "      <button class=\"colab-df-convert\" onclick=\"convertToInteractive('df-3a067855-2e00-4c25-80e0-8ff309e1c763')\"\n",
              "              title=\"Convert this dataframe to an interactive table.\"\n",
              "              style=\"display:none;\">\n",
              "        \n",
              "  <svg xmlns=\"http://www.w3.org/2000/svg\" height=\"24px\"viewBox=\"0 0 24 24\"\n",
              "       width=\"24px\">\n",
              "    <path d=\"M0 0h24v24H0V0z\" fill=\"none\"/>\n",
              "    <path d=\"M18.56 5.44l.94 2.06.94-2.06 2.06-.94-2.06-.94-.94-2.06-.94 2.06-2.06.94zm-11 1L8.5 8.5l.94-2.06 2.06-.94-2.06-.94L8.5 2.5l-.94 2.06-2.06.94zm10 10l.94 2.06.94-2.06 2.06-.94-2.06-.94-.94-2.06-.94 2.06-2.06.94z\"/><path d=\"M17.41 7.96l-1.37-1.37c-.4-.4-.92-.59-1.43-.59-.52 0-1.04.2-1.43.59L10.3 9.45l-7.72 7.72c-.78.78-.78 2.05 0 2.83L4 21.41c.39.39.9.59 1.41.59.51 0 1.02-.2 1.41-.59l7.78-7.78 2.81-2.81c.8-.78.8-2.07 0-2.86zM5.41 20L4 18.59l7.72-7.72 1.47 1.35L5.41 20z\"/>\n",
              "  </svg>\n",
              "      </button>\n",
              "      \n",
              "  <style>\n",
              "    .colab-df-container {\n",
              "      display:flex;\n",
              "      flex-wrap:wrap;\n",
              "      gap: 12px;\n",
              "    }\n",
              "\n",
              "    .colab-df-convert {\n",
              "      background-color: #E8F0FE;\n",
              "      border: none;\n",
              "      border-radius: 50%;\n",
              "      cursor: pointer;\n",
              "      display: none;\n",
              "      fill: #1967D2;\n",
              "      height: 32px;\n",
              "      padding: 0 0 0 0;\n",
              "      width: 32px;\n",
              "    }\n",
              "\n",
              "    .colab-df-convert:hover {\n",
              "      background-color: #E2EBFA;\n",
              "      box-shadow: 0px 1px 2px rgba(60, 64, 67, 0.3), 0px 1px 3px 1px rgba(60, 64, 67, 0.15);\n",
              "      fill: #174EA6;\n",
              "    }\n",
              "\n",
              "    [theme=dark] .colab-df-convert {\n",
              "      background-color: #3B4455;\n",
              "      fill: #D2E3FC;\n",
              "    }\n",
              "\n",
              "    [theme=dark] .colab-df-convert:hover {\n",
              "      background-color: #434B5C;\n",
              "      box-shadow: 0px 1px 3px 1px rgba(0, 0, 0, 0.15);\n",
              "      filter: drop-shadow(0px 1px 2px rgba(0, 0, 0, 0.3));\n",
              "      fill: #FFFFFF;\n",
              "    }\n",
              "  </style>\n",
              "\n",
              "      <script>\n",
              "        const buttonEl =\n",
              "          document.querySelector('#df-3a067855-2e00-4c25-80e0-8ff309e1c763 button.colab-df-convert');\n",
              "        buttonEl.style.display =\n",
              "          google.colab.kernel.accessAllowed ? 'block' : 'none';\n",
              "\n",
              "        async function convertToInteractive(key) {\n",
              "          const element = document.querySelector('#df-3a067855-2e00-4c25-80e0-8ff309e1c763');\n",
              "          const dataTable =\n",
              "            await google.colab.kernel.invokeFunction('convertToInteractive',\n",
              "                                                     [key], {});\n",
              "          if (!dataTable) return;\n",
              "\n",
              "          const docLinkHtml = 'Like what you see? Visit the ' +\n",
              "            '<a target=\"_blank\" href=https://colab.research.google.com/notebooks/data_table.ipynb>data table notebook</a>'\n",
              "            + ' to learn more about interactive tables.';\n",
              "          element.innerHTML = '';\n",
              "          dataTable['output_type'] = 'display_data';\n",
              "          await google.colab.output.renderOutput(dataTable, element);\n",
              "          const docLink = document.createElement('div');\n",
              "          docLink.innerHTML = docLinkHtml;\n",
              "          element.appendChild(docLink);\n",
              "        }\n",
              "      </script>\n",
              "    </div>\n",
              "  </div>\n",
              "  "
            ]
          },
          "metadata": {},
          "execution_count": 74
        }
      ],
      "source": [
        "#cargamos los datos\n",
        "path = 'https://raw.githubusercontent.com/Alberto0410/Clasificador-de-Musica/main/features_30_sec.csv?token=GHSAT0AAAAAAB4YX4RHZ5EVK47CMU5HZSVQY53YFOQ'\n",
        "music = pd.read_csv(path)\n",
        "music.head()"
      ]
    },
    {
      "cell_type": "code",
      "execution_count": null,
      "metadata": {
        "colab": {
          "base_uri": "https://localhost:8080/"
        },
        "id": "NAB63u5p1DS5",
        "outputId": "9c611263-5ea2-4554-fd7f-3eb9411091c8"
      },
      "outputs": [
        {
          "output_type": "execute_result",
          "data": {
            "text/plain": [
              "Index(['length', 'chroma_stft_mean', 'chroma_stft_var', 'rms_mean', 'rms_var',\n",
              "       'spectral_centroid_mean', 'spectral_centroid_var',\n",
              "       'spectral_bandwidth_mean', 'spectral_bandwidth_var', 'rolloff_mean',\n",
              "       'rolloff_var', 'zero_crossing_rate_mean', 'zero_crossing_rate_var',\n",
              "       'harmony_mean', 'harmony_var', 'perceptr_mean', 'perceptr_var', 'tempo',\n",
              "       'mfcc1_mean', 'mfcc1_var', 'mfcc2_mean', 'mfcc2_var', 'mfcc3_mean',\n",
              "       'mfcc3_var', 'mfcc4_mean', 'mfcc4_var', 'mfcc5_mean', 'mfcc5_var',\n",
              "       'mfcc6_mean', 'mfcc6_var', 'mfcc7_mean', 'mfcc7_var', 'mfcc8_mean',\n",
              "       'mfcc8_var', 'mfcc9_mean', 'mfcc9_var', 'mfcc10_mean', 'mfcc10_var',\n",
              "       'mfcc11_mean', 'mfcc11_var', 'mfcc12_mean', 'mfcc12_var', 'mfcc13_mean',\n",
              "       'mfcc13_var', 'mfcc14_mean', 'mfcc14_var', 'mfcc15_mean', 'mfcc15_var',\n",
              "       'mfcc16_mean', 'mfcc16_var', 'mfcc17_mean', 'mfcc17_var', 'mfcc18_mean',\n",
              "       'mfcc18_var', 'mfcc19_mean', 'mfcc19_var', 'mfcc20_mean', 'mfcc20_var',\n",
              "       'label'],\n",
              "      dtype='object')"
            ]
          },
          "metadata": {},
          "execution_count": 75
        }
      ],
      "source": [
        "#eliminamos la primer columna y vemos las features\n",
        "music.drop('filename', axis = 1, inplace = True)\n",
        "music.columns"
      ]
    },
    {
      "cell_type": "code",
      "execution_count": null,
      "metadata": {
        "colab": {
          "base_uri": "https://localhost:8080/"
        },
        "id": "CN_Qj3Wa1DS5",
        "outputId": "e2e93e74-895d-45ea-acf6-eab1e23d8920"
      },
      "outputs": [
        {
          "output_type": "stream",
          "name": "stdout",
          "text": [
            "<class 'pandas.core.frame.DataFrame'>\n",
            "RangeIndex: 1000 entries, 0 to 999\n",
            "Data columns (total 59 columns):\n",
            " #   Column                   Non-Null Count  Dtype  \n",
            "---  ------                   --------------  -----  \n",
            " 0   length                   1000 non-null   int64  \n",
            " 1   chroma_stft_mean         1000 non-null   float64\n",
            " 2   chroma_stft_var          1000 non-null   float64\n",
            " 3   rms_mean                 1000 non-null   float64\n",
            " 4   rms_var                  1000 non-null   float64\n",
            " 5   spectral_centroid_mean   1000 non-null   float64\n",
            " 6   spectral_centroid_var    1000 non-null   float64\n",
            " 7   spectral_bandwidth_mean  1000 non-null   float64\n",
            " 8   spectral_bandwidth_var   1000 non-null   float64\n",
            " 9   rolloff_mean             1000 non-null   float64\n",
            " 10  rolloff_var              1000 non-null   float64\n",
            " 11  zero_crossing_rate_mean  1000 non-null   float64\n",
            " 12  zero_crossing_rate_var   1000 non-null   float64\n",
            " 13  harmony_mean             1000 non-null   float64\n",
            " 14  harmony_var              1000 non-null   float64\n",
            " 15  perceptr_mean            1000 non-null   float64\n",
            " 16  perceptr_var             1000 non-null   float64\n",
            " 17  tempo                    1000 non-null   float64\n",
            " 18  mfcc1_mean               1000 non-null   float64\n",
            " 19  mfcc1_var                1000 non-null   float64\n",
            " 20  mfcc2_mean               1000 non-null   float64\n",
            " 21  mfcc2_var                1000 non-null   float64\n",
            " 22  mfcc3_mean               1000 non-null   float64\n",
            " 23  mfcc3_var                1000 non-null   float64\n",
            " 24  mfcc4_mean               1000 non-null   float64\n",
            " 25  mfcc4_var                1000 non-null   float64\n",
            " 26  mfcc5_mean               1000 non-null   float64\n",
            " 27  mfcc5_var                1000 non-null   float64\n",
            " 28  mfcc6_mean               1000 non-null   float64\n",
            " 29  mfcc6_var                1000 non-null   float64\n",
            " 30  mfcc7_mean               1000 non-null   float64\n",
            " 31  mfcc7_var                1000 non-null   float64\n",
            " 32  mfcc8_mean               1000 non-null   float64\n",
            " 33  mfcc8_var                1000 non-null   float64\n",
            " 34  mfcc9_mean               1000 non-null   float64\n",
            " 35  mfcc9_var                1000 non-null   float64\n",
            " 36  mfcc10_mean              1000 non-null   float64\n",
            " 37  mfcc10_var               1000 non-null   float64\n",
            " 38  mfcc11_mean              1000 non-null   float64\n",
            " 39  mfcc11_var               1000 non-null   float64\n",
            " 40  mfcc12_mean              1000 non-null   float64\n",
            " 41  mfcc12_var               1000 non-null   float64\n",
            " 42  mfcc13_mean              1000 non-null   float64\n",
            " 43  mfcc13_var               1000 non-null   float64\n",
            " 44  mfcc14_mean              1000 non-null   float64\n",
            " 45  mfcc14_var               1000 non-null   float64\n",
            " 46  mfcc15_mean              1000 non-null   float64\n",
            " 47  mfcc15_var               1000 non-null   float64\n",
            " 48  mfcc16_mean              1000 non-null   float64\n",
            " 49  mfcc16_var               1000 non-null   float64\n",
            " 50  mfcc17_mean              1000 non-null   float64\n",
            " 51  mfcc17_var               1000 non-null   float64\n",
            " 52  mfcc18_mean              1000 non-null   float64\n",
            " 53  mfcc18_var               1000 non-null   float64\n",
            " 54  mfcc19_mean              1000 non-null   float64\n",
            " 55  mfcc19_var               1000 non-null   float64\n",
            " 56  mfcc20_mean              1000 non-null   float64\n",
            " 57  mfcc20_var               1000 non-null   float64\n",
            " 58  label                    1000 non-null   object \n",
            "dtypes: float64(57), int64(1), object(1)\n",
            "memory usage: 461.1+ KB\n"
          ]
        }
      ],
      "source": [
        "#Vemos si hay NA's \n",
        "music.info()"
      ]
    },
    {
      "cell_type": "code",
      "execution_count": null,
      "metadata": {
        "colab": {
          "base_uri": "https://localhost:8080/",
          "height": 765
        },
        "id": "nyd2EBr91DS6",
        "outputId": "da70f689-f1d5-4125-d2d2-ceb9c3661417"
      },
      "outputs": [
        {
          "output_type": "stream",
          "name": "stderr",
          "text": [
            "<ipython-input-77-4456a6ef0bdb>:4: DeprecationWarning: `np.bool` is a deprecated alias for the builtin `bool`. To silence this warning, use `bool` by itself. Doing this will not modify any behavior and is safe. If you specifically wanted the numpy scalar type, use `np.bool_` here.\n",
            "Deprecated in NumPy 1.20; for more details and guidance: https://numpy.org/devdocs/release/1.20.0-notes.html#deprecations\n",
            "  mask = np.triu(np.ones_like(var_df.corr(), dtype = np.bool))\n"
          ]
        },
        {
          "output_type": "execute_result",
          "data": {
            "text/plain": [
              "Text(0.5, 1.0, 'Correlaciones entre las varaibles pt.1')"
            ]
          },
          "metadata": {},
          "execution_count": 77
        },
        {
          "output_type": "display_data",
          "data": {
            "text/plain": [
              "<Figure size 1296x648 with 2 Axes>"
            ],
            "image/png": "[encoded data removed]"
          },
          "metadata": {
            "needs_background": "light"
          }
        }
      ],
      "source": [
        "#Vemos la correlacion entre las features varianza y promedio\n",
        "var_df = music[[column for column in music.columns if 'var' in column]]\n",
        "plt.figure(figsize = (18, 9))\n",
        "mask = np.triu(np.ones_like(var_df.corr(), dtype = np.bool))\n",
        "heatmap = sns.heatmap(var_df.corr(), mask = mask, vmin = 0.2, annot = False, cmap = 'YlOrRd')\n",
        "heatmap.set_title('Correlaciones entre las varaibles pt.1', fontdict={'fontsize':18}, pad=16)"
      ]
    },
    {
      "cell_type": "code",
      "execution_count": null,
      "metadata": {
        "colab": {
          "base_uri": "https://localhost:8080/",
          "height": 777
        },
        "id": "xhO5VKYY1DS6",
        "outputId": "440cd74a-db06-42f2-e723-373b73eb593f"
      },
      "outputs": [
        {
          "output_type": "stream",
          "name": "stderr",
          "text": [
            "<ipython-input-78-60d93ba1a30f>:3: DeprecationWarning: `np.bool` is a deprecated alias for the builtin `bool`. To silence this warning, use `bool` by itself. Doing this will not modify any behavior and is safe. If you specifically wanted the numpy scalar type, use `np.bool_` here.\n",
            "Deprecated in NumPy 1.20; for more details and guidance: https://numpy.org/devdocs/release/1.20.0-notes.html#deprecations\n",
            "  mask = np.triu(np.ones_like(mean_df.corr(), dtype=np.bool))\n"
          ]
        },
        {
          "output_type": "execute_result",
          "data": {
            "text/plain": [
              "Text(0.5, 1.0, 'Correlaciones entre las varaibles pt.2')"
            ]
          },
          "metadata": {},
          "execution_count": 78
        },
        {
          "output_type": "display_data",
          "data": {
            "text/plain": [
              "<Figure size 1296x648 with 2 Axes>"
            ],
            "image/png": "[encoded data removed]"
          },
          "metadata": {
            "needs_background": "light"
          }
        }
      ],
      "source": [
        "mean_df = music[[column for column in music.columns if 'mean' in column]]\n",
        "plt.figure(figsize = (18, 9))\n",
        "mask = np.triu(np.ones_like(mean_df.corr(), dtype=np.bool))\n",
        "heatmap = sns.heatmap(mean_df.corr(), mask = mask, vmin = 0.2, annot = False, cmap = 'YlOrRd')\n",
        "heatmap.set_title('Correlaciones entre las varaibles pt.2', fontdict={'fontsize':18}, pad = 16)"
      ]
    },
    {
      "cell_type": "code",
      "execution_count": null,
      "metadata": {
        "colab": {
          "base_uri": "https://localhost:8080/"
        },
        "id": "P0skg5L-1DS6",
        "outputId": "7148fc48-6133-4acb-9ad8-c217591ca5dd"
      },
      "outputs": [
        {
          "output_type": "execute_result",
          "data": {
            "text/plain": [
              "blues        100\n",
              "classical    100\n",
              "country      100\n",
              "disco        100\n",
              "hiphop       100\n",
              "jazz         100\n",
              "metal        100\n",
              "pop          100\n",
              "reggae       100\n",
              "rock         100\n",
              "Name: label, dtype: int64"
            ]
          },
          "metadata": {},
          "execution_count": 79
        }
      ],
      "source": [
        "#Vemos si hay un balanceo entre las categorias para ver si hacemos un remuestreo\n",
        "music['label'].value_counts()"
      ]
    },
    {
      "cell_type": "markdown",
      "metadata": {
        "id": "-v3ApCQZ1DS7"
      },
      "source": [
        "## Tratamiento de los datos"
      ]
    },
    {
      "cell_type": "code",
      "execution_count": null,
      "metadata": {
        "colab": {
          "base_uri": "https://localhost:8080/",
          "height": 299
        },
        "id": "RLntAO5S1DS7",
        "outputId": "7148db95-4a8e-47bf-ba2b-c253280f701b"
      },
      "outputs": [
        {
          "output_type": "execute_result",
          "data": {
            "text/plain": [
              "     length  chroma_stft_mean  chroma_stft_var  rms_mean   rms_var  \\\n",
              "0  0.113487          0.362279         0.695468  0.318188  0.101983   \n",
              "1  0.113487          0.343622         0.793392  0.230894  0.085580   \n",
              "2  0.113487          0.389832         0.640692  0.433652  0.099064   \n",
              "3  0.113487          0.473508         0.777954  0.345856  0.229160   \n",
              "4  0.113487          0.277759         0.681062  0.219641  0.083075   \n",
              "\n",
              "   spectral_centroid_mean  spectral_centroid_var  spectral_bandwidth_mean  \\\n",
              "0                0.314117               0.040233                 0.422879   \n",
              "1                0.248405               0.121475                 0.436889   \n",
              "2                0.254261               0.049046                 0.325334   \n",
              "3                0.129376               0.058253                 0.267404   \n",
              "4                0.327270               0.110761                 0.325514   \n",
              "\n",
              "   spectral_bandwidth_var  rolloff_mean  ...  mfcc16_mean  mfcc16_var  \\\n",
              "0                0.109789      0.385532  ...     0.564186    0.112704   \n",
              "1                0.296867      0.353329  ...     0.570198    0.120353   \n",
              "2                0.095712      0.289224  ...     0.622467    0.081898   \n",
              "3                0.227566      0.181068  ...     0.565151    0.091876   \n",
              "4                0.113536      0.357017  ...     0.383289    0.200462   \n",
              "\n",
              "   mfcc17_mean  mfcc17_var  mfcc18_mean  mfcc18_var  mfcc19_mean  mfcc19_var  \\\n",
              "0     0.541287    0.057615     0.422444    0.082450     0.487950    0.109503   \n",
              "1     0.574685    0.118286     0.448184    0.102997     0.548800    0.099081   \n",
              "2     0.331003    0.085962     0.370988    0.116420     0.453724    0.087317   \n",
              "3     0.484549    0.092509     0.460684    0.068975     0.538690    0.062612   \n",
              "4     0.410225    0.156424     0.403875    0.120300     0.424652    0.130173   \n",
              "\n",
              "   mfcc20_mean  mfcc20_var  \n",
              "0     0.599189    0.078255  \n",
              "1     0.579640    0.075947  \n",
              "2     0.501381    0.045405  \n",
              "3     0.468060    0.048168  \n",
              "4     0.233047    0.094836  \n",
              "\n",
              "[5 rows x 58 columns]"
            ],
            "text/html": [
              "\n",
              "  <div id=\"df-b5f3f479-ab7a-4f37-aec8-50cca9710e50\">\n",
              "    <div class=\"colab-df-container\">\n",
              "      <div>\n",
              "<style scoped>\n",
              "    .dataframe tbody tr th:only-of-type {\n",
              "        vertical-align: middle;\n",
              "    }\n",
              "\n",
              "    .dataframe tbody tr th {\n",
              "        vertical-align: top;\n",
              "    }\n",
              "\n",
              "    .dataframe thead th {\n",
              "        text-align: right;\n",
              "    }\n",
              "</style>\n",
              "<table border=\"1\" class=\"dataframe\">\n",
              "  <thead>\n",
              "    <tr style=\"text-align: right;\">\n",
              "      <th></th>\n",
              "      <th>length</th>\n",
              "      <th>chroma_stft_mean</th>\n",
              "      <th>chroma_stft_var</th>\n",
              "      <th>rms_mean</th>\n",
              "      <th>rms_var</th>\n",
              "      <th>spectral_centroid_mean</th>\n",
              "      <th>spectral_centroid_var</th>\n",
              "      <th>spectral_bandwidth_mean</th>\n",
              "      <th>spectral_bandwidth_var</th>\n",
              "      <th>rolloff_mean</th>\n",
              "      <th>...</th>\n",
              "      <th>mfcc16_mean</th>\n",
              "      <th>mfcc16_var</th>\n",
              "      <th>mfcc17_mean</th>\n",
              "      <th>mfcc17_var</th>\n",
              "      <th>mfcc18_mean</th>\n",
              "      <th>mfcc18_var</th>\n",
              "      <th>mfcc19_mean</th>\n",
              "      <th>mfcc19_var</th>\n",
              "      <th>mfcc20_mean</th>\n",
              "      <th>mfcc20_var</th>\n",
              "    </tr>\n",
              "  </thead>\n",
              "  <tbody>\n",
              "    <tr>\n",
              "      <th>0</th>\n",
              "      <td>0.113487</td>\n",
              "      <td>0.362279</td>\n",
              "      <td>0.695468</td>\n",
              "      <td>0.318188</td>\n",
              "      <td>0.101983</td>\n",
              "      <td>0.314117</td>\n",
              "      <td>0.040233</td>\n",
              "      <td>0.422879</td>\n",
              "      <td>0.109789</td>\n",
              "      <td>0.385532</td>\n",
              "      <td>...</td>\n",
              "      <td>0.564186</td>\n",
              "      <td>0.112704</td>\n",
              "      <td>0.541287</td>\n",
              "      <td>0.057615</td>\n",
              "      <td>0.422444</td>\n",
              "      <td>0.082450</td>\n",
              "      <td>0.487950</td>\n",
              "      <td>0.109503</td>\n",
              "      <td>0.599189</td>\n",
              "      <td>0.078255</td>\n",
              "    </tr>\n",
              "    <tr>\n",
              "      <th>1</th>\n",
              "      <td>0.113487</td>\n",
              "      <td>0.343622</td>\n",
              "      <td>0.793392</td>\n",
              "      <td>0.230894</td>\n",
              "      <td>0.085580</td>\n",
              "      <td>0.248405</td>\n",
              "      <td>0.121475</td>\n",
              "      <td>0.436889</td>\n",
              "      <td>0.296867</td>\n",
              "      <td>0.353329</td>\n",
              "      <td>...</td>\n",
              "      <td>0.570198</td>\n",
              "      <td>0.120353</td>\n",
              "      <td>0.574685</td>\n",
              "      <td>0.118286</td>\n",
              "      <td>0.448184</td>\n",
              "      <td>0.102997</td>\n",
              "      <td>0.548800</td>\n",
              "      <td>0.099081</td>\n",
              "      <td>0.579640</td>\n",
              "      <td>0.075947</td>\n",
              "    </tr>\n",
              "    <tr>\n",
              "      <th>2</th>\n",
              "      <td>0.113487</td>\n",
              "      <td>0.389832</td>\n",
              "      <td>0.640692</td>\n",
              "      <td>0.433652</td>\n",
              "      <td>0.099064</td>\n",
              "      <td>0.254261</td>\n",
              "      <td>0.049046</td>\n",
              "      <td>0.325334</td>\n",
              "      <td>0.095712</td>\n",
              "      <td>0.289224</td>\n",
              "      <td>...</td>\n",
              "      <td>0.622467</td>\n",
              "      <td>0.081898</td>\n",
              "      <td>0.331003</td>\n",
              "      <td>0.085962</td>\n",
              "      <td>0.370988</td>\n",
              "      <td>0.116420</td>\n",
              "      <td>0.453724</td>\n",
              "      <td>0.087317</td>\n",
              "      <td>0.501381</td>\n",
              "      <td>0.045405</td>\n",
              "    </tr>\n",
              "    <tr>\n",
              "      <th>3</th>\n",
              "      <td>0.113487</td>\n",
              "      <td>0.473508</td>\n",
              "      <td>0.777954</td>\n",
              "      <td>0.345856</td>\n",
              "      <td>0.229160</td>\n",
              "      <td>0.129376</td>\n",
              "      <td>0.058253</td>\n",
              "      <td>0.267404</td>\n",
              "      <td>0.227566</td>\n",
              "      <td>0.181068</td>\n",
              "      <td>...</td>\n",
              "      <td>0.565151</td>\n",
              "      <td>0.091876</td>\n",
              "      <td>0.484549</td>\n",
              "      <td>0.092509</td>\n",
              "      <td>0.460684</td>\n",
              "      <td>0.068975</td>\n",
              "      <td>0.538690</td>\n",
              "      <td>0.062612</td>\n",
              "      <td>0.468060</td>\n",
              "      <td>0.048168</td>\n",
              "    </tr>\n",
              "    <tr>\n",
              "      <th>4</th>\n",
              "      <td>0.113487</td>\n",
              "      <td>0.277759</td>\n",
              "      <td>0.681062</td>\n",
              "      <td>0.219641</td>\n",
              "      <td>0.083075</td>\n",
              "      <td>0.327270</td>\n",
              "      <td>0.110761</td>\n",
              "      <td>0.325514</td>\n",
              "      <td>0.113536</td>\n",
              "      <td>0.357017</td>\n",
              "      <td>...</td>\n",
              "      <td>0.383289</td>\n",
              "      <td>0.200462</td>\n",
              "      <td>0.410225</td>\n",
              "      <td>0.156424</td>\n",
              "      <td>0.403875</td>\n",
              "      <td>0.120300</td>\n",
              "      <td>0.424652</td>\n",
              "      <td>0.130173</td>\n",
              "      <td>0.233047</td>\n",
              "      <td>0.094836</td>\n",
              "    </tr>\n",
              "  </tbody>\n",
              "</table>\n",
              "<p>5 rows × 58 columns</p>\n",
              "</div>\n",
              "      <button class=\"colab-df-convert\" onclick=\"convertToInteractive('df-b5f3f479-ab7a-4f37-aec8-50cca9710e50')\"\n",
              "              title=\"Convert this dataframe to an interactive table.\"\n",
              "              style=\"display:none;\">\n",
              "        \n",
              "  <svg xmlns=\"http://www.w3.org/2000/svg\" height=\"24px\"viewBox=\"0 0 24 24\"\n",
              "       width=\"24px\">\n",
              "    <path d=\"M0 0h24v24H0V0z\" fill=\"none\"/>\n",
              "    <path d=\"M18.56 5.44l.94 2.06.94-2.06 2.06-.94-2.06-.94-.94-2.06-.94 2.06-2.06.94zm-11 1L8.5 8.5l.94-2.06 2.06-.94-2.06-.94L8.5 2.5l-.94 2.06-2.06.94zm10 10l.94 2.06.94-2.06 2.06-.94-2.06-.94-.94-2.06-.94 2.06-2.06.94z\"/><path d=\"M17.41 7.96l-1.37-1.37c-.4-.4-.92-.59-1.43-.59-.52 0-1.04.2-1.43.59L10.3 9.45l-7.72 7.72c-.78.78-.78 2.05 0 2.83L4 21.41c.39.39.9.59 1.41.59.51 0 1.02-.2 1.41-.59l7.78-7.78 2.81-2.81c.8-.78.8-2.07 0-2.86zM5.41 20L4 18.59l7.72-7.72 1.47 1.35L5.41 20z\"/>\n",
              "  </svg>\n",
              "      </button>\n",
              "      \n",
              "  <style>\n",
              "    .colab-df-container {\n",
              "      display:flex;\n",
              "      flex-wrap:wrap;\n",
              "      gap: 12px;\n",
              "    }\n",
              "\n",
              "    .colab-df-convert {\n",
              "      background-color: #E8F0FE;\n",
              "      border: none;\n",
              "      border-radius: 50%;\n",
              "      cursor: pointer;\n",
              "      display: none;\n",
              "      fill: #1967D2;\n",
              "      height: 32px;\n",
              "      padding: 0 0 0 0;\n",
              "      width: 32px;\n",
              "    }\n",
              "\n",
              "    .colab-df-convert:hover {\n",
              "      background-color: #E2EBFA;\n",
              "      box-shadow: 0px 1px 2px rgba(60, 64, 67, 0.3), 0px 1px 3px 1px rgba(60, 64, 67, 0.15);\n",
              "      fill: #174EA6;\n",
              "    }\n",
              "\n",
              "    [theme=dark] .colab-df-convert {\n",
              "      background-color: #3B4455;\n",
              "      fill: #D2E3FC;\n",
              "    }\n",
              "\n",
              "    [theme=dark] .colab-df-convert:hover {\n",
              "      background-color: #434B5C;\n",
              "      box-shadow: 0px 1px 3px 1px rgba(0, 0, 0, 0.15);\n",
              "      filter: drop-shadow(0px 1px 2px rgba(0, 0, 0, 0.3));\n",
              "      fill: #FFFFFF;\n",
              "    }\n",
              "  </style>\n",
              "\n",
              "      <script>\n",
              "        const buttonEl =\n",
              "          document.querySelector('#df-b5f3f479-ab7a-4f37-aec8-50cca9710e50 button.colab-df-convert');\n",
              "        buttonEl.style.display =\n",
              "          google.colab.kernel.accessAllowed ? 'block' : 'none';\n",
              "\n",
              "        async function convertToInteractive(key) {\n",
              "          const element = document.querySelector('#df-b5f3f479-ab7a-4f37-aec8-50cca9710e50');\n",
              "          const dataTable =\n",
              "            await google.colab.kernel.invokeFunction('convertToInteractive',\n",
              "                                                     [key], {});\n",
              "          if (!dataTable) return;\n",
              "\n",
              "          const docLinkHtml = 'Like what you see? Visit the ' +\n",
              "            '<a target=\"_blank\" href=https://colab.research.google.com/notebooks/data_table.ipynb>data table notebook</a>'\n",
              "            + ' to learn more about interactive tables.';\n",
              "          element.innerHTML = '';\n",
              "          dataTable['output_type'] = 'display_data';\n",
              "          await google.colab.output.renderOutput(dataTable, element);\n",
              "          const docLink = document.createElement('div');\n",
              "          docLink.innerHTML = docLinkHtml;\n",
              "          element.appendChild(docLink);\n",
              "        }\n",
              "      </script>\n",
              "    </div>\n",
              "  </div>\n",
              "  "
            ]
          },
          "metadata": {},
          "execution_count": 80
        }
      ],
      "source": [
        "#Todo esta balanceado por lo que podemos proceder a dividir el dataser\n",
        "X = music.copy().drop('label', axis = 1)\n",
        "y = music['label']\n",
        "\n",
        "#Normalizamos todo para que no haya problemas con los modelos\n",
        "scaler = preprocessing.MinMaxScaler()\n",
        "X_values = scaler.fit_transform(X)\n",
        "X = pd.DataFrame(X_values, columns = music.columns[:-1])\n",
        "X.head()"
      ]
    },
    {
      "cell_type": "code",
      "execution_count": null,
      "metadata": {
        "id": "YpWkhsBX1DS8"
      },
      "outputs": [],
      "source": [
        "X_train, X_test, y_train, y_test = train_test_split(X, y, test_size = 0.2, random_state = 123)"
      ]
    },
    {
      "cell_type": "markdown",
      "metadata": {
        "id": "ZG2_dHi_1DS8"
      },
      "source": [
        "## Grid Search\n",
        "\n",
        "Para cada modelo procedemos a realizar un Grid Search para encontrar los mejores hiperparametros. Además, en cada Grid Search empleamos Cross Validation."
      ]
    },
    {
      "cell_type": "code",
      "source": [
        "def mod_fit(estimator, params, X_train, X_test, y_train, y_test, name):\n",
        "  #Instanciamos el Grid Search\n",
        "  gs_gbs = BayesSearchCV(estimator = estimator,\n",
        "                         search_spaces = params,\n",
        "                         cv = 4,\n",
        "                         n_iter = 30,\n",
        "                         random_state = 7,\n",
        "                         n_jobs = -1,\n",
        "                         refit = True\n",
        "                         )\n",
        "  \n",
        "  #Ajustamos el modelo, predecimos y evaluamos\n",
        "  gs_gbs.fit(X_train, y_train)\n",
        "  y_pred = gs_gbs.predict(X_test)\n",
        "\n",
        "  print(classification_report(y_test, y_pred))\n",
        "  print('-'*30)\n",
        "  print(f'Accuracy of {name}: {accuracy_score(y_test, y_pred)}')\n",
        "  print(gs_gbs.best_params_)\n"
      ],
      "metadata": {
        "id": "Z9g8mOe54ZF-"
      },
      "execution_count": null,
      "outputs": []
    },
    {
      "cell_type": "code",
      "source": [
        "#Instanciamos todos los modelos que vamos a emplear\n",
        "dtc = DecisionTreeClassifier(random_state = 7)\n",
        "lr = LogisticRegression(random_state = 7, multi_class='multinomial')\n",
        "knn = KNN()\n",
        "rf = RandomForestClassifier(random_state = 7)\n",
        "abc = AdaBoostClassifier(random_state = 7)\n",
        "gbc = GradientBoostingClassifier(random_state = 7)\n",
        "xgb_model = xgb.XGBClassifier(random_state = 7)\n"
      ],
      "metadata": {
        "id": "bgjMyKWp5YjE"
      },
      "execution_count": null,
      "outputs": []
    },
    {
      "cell_type": "code",
      "source": [
        "params_dtc = {'max_depth' : (1, 8),\n",
        "              'criterion' : ['gini', 'entropy']\n",
        "              }\n",
        "\n",
        "mod_fit(dtc, params_dtc, X_train, X_test, y_train, y_test, 'Decision Tree Classifier')"
      ],
      "metadata": {
        "id": "f8kGDFzaDO88",
        "colab": {
          "base_uri": "https://localhost:8080/"
        },
        "outputId": "40dff2d0-219e-46df-8973-97ecf28f6867"
      },
      "execution_count": null,
      "outputs": [
        {
          "output_type": "stream",
          "name": "stderr",
          "text": [
            "/usr/local/lib/python3.8/dist-packages/skopt/optimizer/optimizer.py:449: UserWarning: The objective has been evaluated at this point before.\n",
            "  warnings.warn(\"The objective has been evaluated \"\n",
            "/usr/local/lib/python3.8/dist-packages/skopt/optimizer/optimizer.py:449: UserWarning: The objective has been evaluated at this point before.\n",
            "  warnings.warn(\"The objective has been evaluated \"\n",
            "/usr/local/lib/python3.8/dist-packages/skopt/optimizer/optimizer.py:449: UserWarning: The objective has been evaluated at this point before.\n",
            "  warnings.warn(\"The objective has been evaluated \"\n",
            "/usr/local/lib/python3.8/dist-packages/skopt/optimizer/optimizer.py:449: UserWarning: The objective has been evaluated at this point before.\n",
            "  warnings.warn(\"The objective has been evaluated \"\n",
            "/usr/local/lib/python3.8/dist-packages/skopt/optimizer/optimizer.py:449: UserWarning: The objective has been evaluated at this point before.\n",
            "  warnings.warn(\"The objective has been evaluated \"\n",
            "/usr/local/lib/python3.8/dist-packages/skopt/optimizer/optimizer.py:449: UserWarning: The objective has been evaluated at this point before.\n",
            "  warnings.warn(\"The objective has been evaluated \"\n",
            "/usr/local/lib/python3.8/dist-packages/skopt/optimizer/optimizer.py:449: UserWarning: The objective has been evaluated at this point before.\n",
            "  warnings.warn(\"The objective has been evaluated \"\n",
            "/usr/local/lib/python3.8/dist-packages/skopt/optimizer/optimizer.py:449: UserWarning: The objective has been evaluated at this point before.\n",
            "  warnings.warn(\"The objective has been evaluated \"\n",
            "/usr/local/lib/python3.8/dist-packages/skopt/optimizer/optimizer.py:449: UserWarning: The objective has been evaluated at this point before.\n",
            "  warnings.warn(\"The objective has been evaluated \"\n",
            "/usr/local/lib/python3.8/dist-packages/skopt/optimizer/optimizer.py:449: UserWarning: The objective has been evaluated at this point before.\n",
            "  warnings.warn(\"The objective has been evaluated \"\n",
            "/usr/local/lib/python3.8/dist-packages/skopt/optimizer/optimizer.py:449: UserWarning: The objective has been evaluated at this point before.\n",
            "  warnings.warn(\"The objective has been evaluated \"\n",
            "/usr/local/lib/python3.8/dist-packages/skopt/optimizer/optimizer.py:449: UserWarning: The objective has been evaluated at this point before.\n",
            "  warnings.warn(\"The objective has been evaluated \"\n"
          ]
        },
        {
          "output_type": "stream",
          "name": "stdout",
          "text": [
            "              precision    recall  f1-score   support\n",
            "\n",
            "       blues       0.42      0.44      0.43        18\n",
            "   classical       0.95      0.75      0.84        24\n",
            "     country       0.36      0.53      0.43        17\n",
            "       disco       0.68      0.46      0.55        28\n",
            "      hiphop       0.40      0.86      0.55        14\n",
            "        jazz       0.69      0.75      0.72        12\n",
            "       metal       0.71      0.71      0.71        21\n",
            "         pop       0.82      0.70      0.76        20\n",
            "      reggae       0.73      0.70      0.71        23\n",
            "        rock       0.53      0.35      0.42        23\n",
            "\n",
            "    accuracy                           0.61       200\n",
            "   macro avg       0.63      0.63      0.61       200\n",
            "weighted avg       0.65      0.61      0.62       200\n",
            "\n",
            "------------------------------\n",
            "Accuracy of Decision Tree Classifier: 0.61\n",
            "OrderedDict([('criterion', 'gini'), ('max_depth', 7)])\n"
          ]
        }
      ]
    },
    {
      "cell_type": "code",
      "source": [
        "params_lr = {'solver' : ['lbfgs', 'saga', 'newton-cg']}\n",
        "\n",
        "mod_fit(lr, params_lr, X_train, X_test, y_train, y_test, 'Logistic Regression')"
      ],
      "metadata": {
        "id": "jv6E9Nq6DPmU",
        "colab": {
          "base_uri": "https://localhost:8080/"
        },
        "outputId": "fa2d3c96-3d8d-42ac-b260-94720541e327"
      },
      "execution_count": null,
      "outputs": [
        {
          "output_type": "stream",
          "name": "stderr",
          "text": [
            "/usr/local/lib/python3.8/dist-packages/skopt/optimizer/optimizer.py:449: UserWarning: The objective has been evaluated at this point before.\n",
            "  warnings.warn(\"The objective has been evaluated \"\n",
            "/usr/local/lib/python3.8/dist-packages/skopt/optimizer/optimizer.py:449: UserWarning: The objective has been evaluated at this point before.\n",
            "  warnings.warn(\"The objective has been evaluated \"\n",
            "/usr/local/lib/python3.8/dist-packages/skopt/optimizer/optimizer.py:449: UserWarning: The objective has been evaluated at this point before.\n",
            "  warnings.warn(\"The objective has been evaluated \"\n",
            "/usr/local/lib/python3.8/dist-packages/skopt/optimizer/optimizer.py:449: UserWarning: The objective has been evaluated at this point before.\n",
            "  warnings.warn(\"The objective has been evaluated \"\n",
            "/usr/local/lib/python3.8/dist-packages/skopt/optimizer/optimizer.py:449: UserWarning: The objective has been evaluated at this point before.\n",
            "  warnings.warn(\"The objective has been evaluated \"\n",
            "/usr/local/lib/python3.8/dist-packages/skopt/optimizer/optimizer.py:449: UserWarning: The objective has been evaluated at this point before.\n",
            "  warnings.warn(\"The objective has been evaluated \"\n",
            "/usr/local/lib/python3.8/dist-packages/skopt/optimizer/optimizer.py:449: UserWarning: The objective has been evaluated at this point before.\n",
            "  warnings.warn(\"The objective has been evaluated \"\n",
            "/usr/local/lib/python3.8/dist-packages/skopt/optimizer/optimizer.py:449: UserWarning: The objective has been evaluated at this point before.\n",
            "  warnings.warn(\"The objective has been evaluated \"\n",
            "/usr/local/lib/python3.8/dist-packages/skopt/optimizer/optimizer.py:449: UserWarning: The objective has been evaluated at this point before.\n",
            "  warnings.warn(\"The objective has been evaluated \"\n",
            "/usr/local/lib/python3.8/dist-packages/skopt/optimizer/optimizer.py:449: UserWarning: The objective has been evaluated at this point before.\n",
            "  warnings.warn(\"The objective has been evaluated \"\n",
            "/usr/local/lib/python3.8/dist-packages/skopt/optimizer/optimizer.py:449: UserWarning: The objective has been evaluated at this point before.\n",
            "  warnings.warn(\"The objective has been evaluated \"\n",
            "/usr/local/lib/python3.8/dist-packages/skopt/optimizer/optimizer.py:449: UserWarning: The objective has been evaluated at this point before.\n",
            "  warnings.warn(\"The objective has been evaluated \"\n",
            "/usr/local/lib/python3.8/dist-packages/skopt/optimizer/optimizer.py:449: UserWarning: The objective has been evaluated at this point before.\n",
            "  warnings.warn(\"The objective has been evaluated \"\n",
            "/usr/local/lib/python3.8/dist-packages/skopt/optimizer/optimizer.py:449: UserWarning: The objective has been evaluated at this point before.\n",
            "  warnings.warn(\"The objective has been evaluated \"\n",
            "/usr/local/lib/python3.8/dist-packages/skopt/optimizer/optimizer.py:449: UserWarning: The objective has been evaluated at this point before.\n",
            "  warnings.warn(\"The objective has been evaluated \"\n",
            "/usr/local/lib/python3.8/dist-packages/skopt/optimizer/optimizer.py:449: UserWarning: The objective has been evaluated at this point before.\n",
            "  warnings.warn(\"The objective has been evaluated \"\n",
            "/usr/local/lib/python3.8/dist-packages/skopt/optimizer/optimizer.py:449: UserWarning: The objective has been evaluated at this point before.\n",
            "  warnings.warn(\"The objective has been evaluated \"\n",
            "/usr/local/lib/python3.8/dist-packages/skopt/optimizer/optimizer.py:449: UserWarning: The objective has been evaluated at this point before.\n",
            "  warnings.warn(\"The objective has been evaluated \"\n",
            "/usr/local/lib/python3.8/dist-packages/skopt/optimizer/optimizer.py:449: UserWarning: The objective has been evaluated at this point before.\n",
            "  warnings.warn(\"The objective has been evaluated \"\n"
          ]
        },
        {
          "output_type": "stream",
          "name": "stdout",
          "text": [
            "              precision    recall  f1-score   support\n",
            "\n",
            "       blues       0.69      0.61      0.65        18\n",
            "   classical       1.00      0.96      0.98        24\n",
            "     country       0.55      0.71      0.62        17\n",
            "       disco       0.69      0.39      0.50        28\n",
            "      hiphop       0.50      0.64      0.56        14\n",
            "        jazz       0.92      1.00      0.96        12\n",
            "       metal       0.61      0.81      0.69        21\n",
            "         pop       0.59      0.80      0.68        20\n",
            "      reggae       0.75      0.78      0.77        23\n",
            "        rock       0.62      0.35      0.44        23\n",
            "\n",
            "    accuracy                           0.69       200\n",
            "   macro avg       0.69      0.71      0.68       200\n",
            "weighted avg       0.69      0.69      0.68       200\n",
            "\n",
            "------------------------------\n",
            "Accuracy of Logistic Regression: 0.685\n",
            "OrderedDict([('solver', 'newton-cg')])\n"
          ]
        }
      ]
    },
    {
      "cell_type": "code",
      "source": [
        "params_knn = {'n_neighbors' : (5, 25)}\n",
        "\n",
        "mod_fit(knn, params_knn, X_train, X_test, y_train, y_test, 'KNN')"
      ],
      "metadata": {
        "colab": {
          "base_uri": "https://localhost:8080/"
        },
        "id": "ORk8hefbGySL",
        "outputId": "7a294e1b-2b9a-4633-e5d8-cf4e7fd3873b"
      },
      "execution_count": null,
      "outputs": [
        {
          "output_type": "stream",
          "name": "stderr",
          "text": [
            "/usr/local/lib/python3.8/dist-packages/skopt/optimizer/optimizer.py:449: UserWarning: The objective has been evaluated at this point before.\n",
            "  warnings.warn(\"The objective has been evaluated \"\n",
            "/usr/local/lib/python3.8/dist-packages/skopt/optimizer/optimizer.py:449: UserWarning: The objective has been evaluated at this point before.\n",
            "  warnings.warn(\"The objective has been evaluated \"\n",
            "/usr/local/lib/python3.8/dist-packages/skopt/optimizer/optimizer.py:449: UserWarning: The objective has been evaluated at this point before.\n",
            "  warnings.warn(\"The objective has been evaluated \"\n",
            "/usr/local/lib/python3.8/dist-packages/skopt/optimizer/optimizer.py:449: UserWarning: The objective has been evaluated at this point before.\n",
            "  warnings.warn(\"The objective has been evaluated \"\n",
            "/usr/local/lib/python3.8/dist-packages/skopt/optimizer/optimizer.py:449: UserWarning: The objective has been evaluated at this point before.\n",
            "  warnings.warn(\"The objective has been evaluated \"\n",
            "/usr/local/lib/python3.8/dist-packages/skopt/optimizer/optimizer.py:449: UserWarning: The objective has been evaluated at this point before.\n",
            "  warnings.warn(\"The objective has been evaluated \"\n",
            "/usr/local/lib/python3.8/dist-packages/skopt/optimizer/optimizer.py:449: UserWarning: The objective has been evaluated at this point before.\n",
            "  warnings.warn(\"The objective has been evaluated \"\n",
            "/usr/local/lib/python3.8/dist-packages/skopt/optimizer/optimizer.py:449: UserWarning: The objective has been evaluated at this point before.\n",
            "  warnings.warn(\"The objective has been evaluated \"\n",
            "/usr/local/lib/python3.8/dist-packages/skopt/optimizer/optimizer.py:449: UserWarning: The objective has been evaluated at this point before.\n",
            "  warnings.warn(\"The objective has been evaluated \"\n",
            "/usr/local/lib/python3.8/dist-packages/skopt/optimizer/optimizer.py:449: UserWarning: The objective has been evaluated at this point before.\n",
            "  warnings.warn(\"The objective has been evaluated \"\n",
            "/usr/local/lib/python3.8/dist-packages/skopt/optimizer/optimizer.py:449: UserWarning: The objective has been evaluated at this point before.\n",
            "  warnings.warn(\"The objective has been evaluated \"\n",
            "/usr/local/lib/python3.8/dist-packages/skopt/optimizer/optimizer.py:449: UserWarning: The objective has been evaluated at this point before.\n",
            "  warnings.warn(\"The objective has been evaluated \"\n"
          ]
        },
        {
          "output_type": "stream",
          "name": "stdout",
          "text": [
            "              precision    recall  f1-score   support\n",
            "\n",
            "       blues       0.80      0.67      0.73        18\n",
            "   classical       0.85      0.96      0.90        24\n",
            "     country       0.41      0.88      0.56        17\n",
            "       disco       0.61      0.50      0.55        28\n",
            "      hiphop       0.48      0.71      0.57        14\n",
            "        jazz       1.00      0.58      0.74        12\n",
            "       metal       0.84      0.76      0.80        21\n",
            "         pop       0.89      0.80      0.84        20\n",
            "      reggae       0.80      0.52      0.63        23\n",
            "        rock       0.50      0.39      0.44        23\n",
            "\n",
            "    accuracy                           0.67       200\n",
            "   macro avg       0.72      0.68      0.68       200\n",
            "weighted avg       0.71      0.67      0.67       200\n",
            "\n",
            "------------------------------\n",
            "Accuracy of KNN: 0.67\n",
            "OrderedDict([('n_neighbors', 6)])\n"
          ]
        }
      ]
    },
    {
      "cell_type": "code",
      "source": [
        "params_rf = {'criterion' : ['gini', 'entropy'],\n",
        "             'max_depth' : (1, 100),\n",
        "             'n_estimators' : (10, 1200)\n",
        "}\n",
        "\n",
        "mod_fit(rf, params_rf, X_train, X_test, y_train, y_test, 'Random Forest')"
      ],
      "metadata": {
        "colab": {
          "base_uri": "https://localhost:8080/"
        },
        "id": "UpnYZvo2HIiu",
        "outputId": "61413fcb-82c6-4341-fc21-17451ae36e92"
      },
      "execution_count": null,
      "outputs": [
        {
          "output_type": "stream",
          "name": "stdout",
          "text": [
            "              precision    recall  f1-score   support\n",
            "\n",
            "       blues       0.93      0.78      0.85        18\n",
            "   classical       0.96      0.96      0.96        24\n",
            "     country       0.75      0.88      0.81        17\n",
            "       disco       0.92      0.82      0.87        28\n",
            "      hiphop       0.81      0.93      0.87        14\n",
            "        jazz       0.92      0.92      0.92        12\n",
            "       metal       0.83      0.95      0.89        21\n",
            "         pop       0.77      0.85      0.81        20\n",
            "      reggae       0.87      0.87      0.87        23\n",
            "        rock       0.95      0.78      0.86        23\n",
            "\n",
            "    accuracy                           0.87       200\n",
            "   macro avg       0.87      0.87      0.87       200\n",
            "weighted avg       0.88      0.87      0.87       200\n",
            "\n",
            "------------------------------\n",
            "Accuracy of Random Forest: 0.87\n",
            "OrderedDict([('criterion', 'entropy'), ('max_depth', 100), ('n_estimators', 1200)])\n"
          ]
        }
      ]
    },
    {
      "cell_type": "code",
      "source": [
        "params_xgb = {'n_estimators' : (100, 1200),\n",
        "              'max_depth': (1, 10)\n",
        "}\n",
        "mod_fit(xgb_model, params_xgb, X_train, X_test, y_train, y_test, 'Cross Gradient Booster')"
      ],
      "metadata": {
        "colab": {
          "base_uri": "https://localhost:8080/"
        },
        "id": "lHnixauLFGKq",
        "outputId": "f09a7881-0e19-4012-b58b-b44ebc516ad1"
      },
      "execution_count": null,
      "outputs": [
        {
          "output_type": "stream",
          "name": "stdout",
          "text": [
            "              precision    recall  f1-score   support\n",
            "\n",
            "       blues       0.87      0.72      0.79        18\n",
            "   classical       0.96      0.92      0.94        24\n",
            "     country       0.70      0.82      0.76        17\n",
            "       disco       0.78      0.75      0.76        28\n",
            "      hiphop       0.64      1.00      0.78        14\n",
            "        jazz       0.75      0.75      0.75        12\n",
            "       metal       0.94      0.81      0.87        21\n",
            "         pop       0.94      0.75      0.83        20\n",
            "      reggae       0.79      0.96      0.86        23\n",
            "        rock       0.68      0.57      0.62        23\n",
            "\n",
            "    accuracy                           0.80       200\n",
            "   macro avg       0.80      0.80      0.80       200\n",
            "weighted avg       0.81      0.80      0.80       200\n",
            "\n",
            "------------------------------\n",
            "Accuracy of Cross Gradient Booster: 0.8\n",
            "OrderedDict([('max_depth', 2), ('n_estimators', 721)])\n"
          ]
        }
      ]
    },
    {
      "cell_type": "code",
      "execution_count": null,
      "metadata": {
        "id": "CcyESlIL1DS9"
      },
      "outputs": [],
      "source": [
        "from sklearn.tree import DecisionTreeClassifier\n",
        "from sklearn.linear_model import LogisticRegression\n",
        "from sklearn.neighbors import KNeighborsClassifier as KNN\n",
        "from sklearn.ensemble import RandomForestClassifier, AdaBoostClassifier, GradientBoostingClassifier\n",
        "import xgboost as xgb"
      ]
    },
    {
      "cell_type": "code",
      "source": [],
      "metadata": {
        "id": "b6Kv5KcTIGQ5"
      },
      "execution_count": null,
      "outputs": []
    }
  ],
  "metadata": {
    "kernelspec": {
      "display_name": "Python 3.8.3 ('base')",
      "language": "python",
      "name": "python3"
    },
    "language_info": {
      "codemirror_mode": {
        "name": "ipython",
        "version": 3
      },
      "file_extension": ".py",
      "mimetype": "text/x-python",
      "name": "python",
      "nbconvert_exporter": "python",
      "pygments_lexer": "ipython3",
      "version": "3.8.3"
    },
    "orig_nbformat": 4,
    "vscode": {
      "interpreter": {
        "hash": "91bb753b057673435fb8d6f6a083e6c818364728098c7ae050ca3a25357dd754"
      }
    },
    "colab": {
      "provenance": []
    }
  },
  "nbformat": 4,
  "nbformat_minor": 0
}